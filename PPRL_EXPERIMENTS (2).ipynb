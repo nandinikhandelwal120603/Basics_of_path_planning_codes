{
  "cells": [
    {
      "cell_type": "markdown",
      "metadata": {
        "id": "eo4gQkAuLDg5"
      },
      "source": [
        "##**Experiment-4**"
      ]
    },
    {
      "cell_type": "markdown",
      "metadata": {
        "id": "xbXbs9dhK1go"
      },
      "source": [
        "###**Aim: A* path planning algorithm using grid based planning**"
      ]
    },
    {
      "cell_type": "markdown",
      "metadata": {},
      "source": [
        "THEORY :\n",
        "The A* (A-star) algorithm is a widely used pathfinding algorithm in artificial intelligence and robotics. It's an extension of Dijkstra's algorithm with a heuristic to guide the search, making it more efficient in finding the shortest path from a start node to a goal node.\n",
        "\n",
        "2. Components of A* Algorithm:\n",
        "-->Cost Function (f): In A*, each node has a cost function, denoted as 'f'. It represents the total cost of reaching a node from the start node, plus the estimated cost of reaching the goal node from that node.\n",
        "-->Heuristic Function (h): A* uses a heuristic function to estimate the cost of reaching the goal from any given node. This heuristic function is problem-specific and should be admissible (never overestimates the actual cost) and consistent (satisfies the triangle inequality).\n",
        "-->Open List: The set of nodes to be evaluated, initially containing only the start node.\n",
        "-->Closed List: The set of nodes already evaluated.\n",
        "\n",
        "3. Algorithm Steps:\n",
        "1.Initialize the start node: Set its cost 'f' to zero and add it to the open list.\n",
        "2.While the open list is not empty:\n",
        "-->Pop the node with the lowest 'f' value from the open list.\n",
        "-->If the popped node is the goal node, the path has been found.\n",
        "-->Otherwise, expand the node by considering all its neighbors.\n",
        "3.For each neighboring node:\n",
        "-->Calculate its cost 'f', considering both the cost to reach the neighbor from the current node ('g') and the heuristic cost to reach the goal from the neighbor ('h').\n",
        "-->If the neighbor is not in the open list, add it.\n",
        "-->If the neighbor is in the open list but with a higher cost, update its cost.\n",
        "4.After considering all neighbors, mark the current node as visited and move it to the closed list.\n",
        "Trace back the path: Once the goal node is reached, trace back the path from the goal node to the start node using the parent pointers stored during the search.\n",
        "\n",
        "4. Properties:\n",
        "1.A* is guaranteed to find the shortest path if:\n",
        "2.The heuristic function is admissible.\n",
        "3.The graph does not have cycles of negative cost.\n",
        "3.A* is complete (always finds a solution if one exists) and optimal (finds the shortest path) in finite graphs with non-negative edge costs.\n",
        "\n",
        "5. Heuristic Function:\n",
        "-->Common heuristic functions include Manhattan distance, Euclidean distance, and Chebyshev distance, depending on the problem's domain and constraints.\n",
        "6. Applications:\n",
        "A* is widely used in robotics, video games, map routing, network routing, and various other fields where finding the shortest path is essential."
      ]
    },
    {
      "cell_type": "markdown",
      "metadata": {
        "id": "RAFIzRdXLM0e"
      },
      "source": [
        "**Import necessory libraries**"
      ]
    },
    {
      "cell_type": "code",
      "execution_count": 1,
      "metadata": {
        "id": "KGgM4FsK8Gyt"
      },
      "outputs": [],
      "source": [
        "import math\n",
        "import heapq                     # The heapq module provides functions for heap queue algorithms.\n",
        "import matplotlib.pyplot as plt  # Heap queue algorithm is a data structure where the smallest (or largest) element can be quickly accessed."
      ]
    },
    {
      "cell_type": "markdown",
      "metadata": {
        "id": "kYlM5KZPLTiy"
      },
      "source": [
        "**Create class for grid cells**"
      ]
    },
    {
      "cell_type": "code",
      "execution_count": 2,
      "metadata": {
        "id": "0VneyKozLk5J"
      },
      "outputs": [],
      "source": [
        "# Define the Cell class\n",
        "class Cell:                    # New class named Cell\n",
        "    def __init__(self):        # The self parameter represents the instance of the class being initialized.\n",
        "                               # This line defines the constructor method __init__() for the Cell class.\n",
        "                               # The constructor is automatically called when a new instance of the class is created.\n",
        "        self.parent_i = 0      # Parent cell's row index\n",
        "        self.parent_j = 0      # Parent cell's column index\n",
        "        self.f = float('inf')  # Total cost of the cell (g + h)\n",
        "        self.g = float('inf')  # Cost from start to this cell\n",
        "        self.h = 0             # Heuristic cost from this cell to destination"
      ]
    },
    {
      "cell_type": "markdown",
      "metadata": {
        "id": "yEbfcUx3LqFR"
      },
      "source": [
        "**Define the size of the grid**"
      ]
    },
    {
      "cell_type": "code",
      "execution_count": 3,
      "metadata": {
        "id": "02BF3YT4Lony"
      },
      "outputs": [],
      "source": [
        "ROW = 9\n",
        "COL = 10"
      ]
    },
    {
      "cell_type": "markdown",
      "metadata": {
        "id": "D0oswER7LvPo"
      },
      "source": [
        "**Check if a cell is valid (within the grid)**"
      ]
    },
    {
      "cell_type": "code",
      "execution_count": 4,
      "metadata": {
        "id": "NTChpqDaLzih"
      },
      "outputs": [],
      "source": [
        "def is_valid(row, col):\n",
        "    return (row >= 0) and (row < ROW) and (col >= 0) and (col < COL)"
      ]
    },
    {
      "cell_type": "markdown",
      "metadata": {
        "id": "ALy_AHK_L77Z"
      },
      "source": [
        "**Check if a cell is unblocked**"
      ]
    },
    {
      "cell_type": "code",
      "execution_count": 5,
      "metadata": {
        "id": "T1zDwKMeL6_A"
      },
      "outputs": [],
      "source": [
        "def is_unblocked(grid, row, col):\n",
        "    return grid[row][col] == 1"
      ]
    },
    {
      "cell_type": "markdown",
      "metadata": {
        "id": "Wyw_OTVYMFGA"
      },
      "source": [
        "**Check if a cell is the destination**"
      ]
    },
    {
      "cell_type": "code",
      "execution_count": 6,
      "metadata": {
        "id": "Trb2yf-0MEPJ"
      },
      "outputs": [],
      "source": [
        "def is_destination(row, col, dest):\n",
        "    return row == dest[0] and col == dest[1]"
      ]
    },
    {
      "cell_type": "markdown",
      "metadata": {
        "id": "13xG31cKMLGg"
      },
      "source": [
        "**Calculate the heuristic value of a cell (Euclidean distance to destination)**"
      ]
    },
    {
      "cell_type": "code",
      "execution_count": 7,
      "metadata": {
        "id": "uLx-dnAFMPMw"
      },
      "outputs": [],
      "source": [
        "def calculate_h_value(row, col, dest):\n",
        "    return ((row - dest[0]) ** 2 + (col - dest[1]) ** 2) ** 0.5"
      ]
    },
    {
      "cell_type": "markdown",
      "metadata": {
        "id": "XahOLnodMTEo"
      },
      "source": [
        "**Trace the path from source to destination**"
      ]
    },
    {
      "cell_type": "code",
      "execution_count": 8,
      "metadata": {
        "id": "mg_JmpCm8Yb0"
      },
      "outputs": [],
      "source": [
        "# Trace the path from source to destination\n",
        "def trace_path(cell_details, dest):\n",
        "    print(\"The Path is \")\n",
        "    path = []\n",
        "    row = dest[0]\n",
        "    col = dest[1]\n",
        "\n",
        "    # Trace the path from destination to source using parent cells\n",
        "    while not (cell_details[row][col].parent_i == row and cell_details[row][col].parent_j == col):\n",
        "        path.append((row, col))\n",
        "        temp_row = cell_details[row][col].parent_i\n",
        "        temp_col = cell_details[row][col].parent_j\n",
        "        row = temp_row\n",
        "        col = temp_col\n",
        "\n",
        "# cell_details[row][col]: This accesses the cell details of the cell at position (row, col) in the cell_details array.\n",
        "# parent_i: This accesses the parent_i attribute of the cell, which represents the row index of the parent cell.\n",
        "# == row: This compares the parent_i attribute with the current row index row.\n",
        "\n",
        "    # Add the source cell to the path\n",
        "    path.append((row, col))\n",
        "    # Reverse the path to get the path from source to destination\n",
        "    path.reverse()\n",
        "\n",
        "    # Print the path\n",
        "    for i in path:\n",
        "        print(\"->\", i, end=\" \")\n",
        "    print()\n",
        "    return path"
      ]
    },
    {
      "cell_type": "markdown",
      "metadata": {
        "id": "Eku8m7tCMmbR"
      },
      "source": [
        "**Implement the A* search algorithm**"
      ]
    },
    {
      "cell_type": "code",
      "execution_count": 9,
      "metadata": {
        "id": "o5DuPAg51fP0"
      },
      "outputs": [],
      "source": [
        "def a_star_search(grid, src, dest):\n",
        "    # Check if the source and destination are valid\n",
        "    if not is_valid(src[0], src[1]) or not is_valid(dest[0], dest[1]):\n",
        "        print(\"Source or destination is invalid\")\n",
        "        return\n",
        "\n",
        "    # Check if the source and destination are unblocked\n",
        "    if not is_unblocked(grid, src[0], src[1]) or not is_unblocked(grid, dest[0], dest[1]):\n",
        "        print(\"Source or the destination is blocked\")\n",
        "        return\n",
        "\n",
        "    # Check if we are already at the destination\n",
        "    if is_destination(src[0], src[1], dest):\n",
        "        print(\"We are already at the destination\")\n",
        "        return\n",
        "\n",
        "    # Initialize the closed list (visited cells)\n",
        "    closed_list = [[False for a in range(COL)] for a in range(ROW)]\n",
        "\n",
        "#This line initializes a 2D list named closed_list.\n",
        "#It represents the closed list in the A* search algorithm, which keeps track of visited cells.\n",
        "#Each cell in the grid corresponds to a boolean value indicating whether it has been visited (True) or not (False).\n",
        "#The list is initialized with dimensions ROW by COL, where each cell is initialized to False, indicating that no cell has been visited yet.\n",
        "\n",
        "\n",
        "\n",
        "\n",
        "    # Initialize the details of each cell\n",
        "    cell_details = [[Cell() for b in range(COL)] for b in range(ROW)]\n",
        "\n",
        "#This line initializes a 2D list named cell_details.\n",
        "#It represents the details of each cell in the grid.\n",
        "#Each cell in the grid corresponds to a Cell object, which holds information such as the parent cell indices, total cost (f), cost from the start (g), and heuristic cost to the destination (h). The list is initialized with dimensions ROW by COL, where each cell is initialized with a new Cell object.\n",
        "#This allows for easy access and modification of cell details during the A* search algorithm.\n",
        "\n",
        "    # Initialize the start cell details\n",
        "    i = src[0]\n",
        "    j = src[1]\n",
        "    cell_details[i][j].f = 0\n",
        "    cell_details[i][j].g = 0\n",
        "    cell_details[i][j].h = 0\n",
        "    cell_details[i][j].parent_i = i\n",
        "    cell_details[i][j].parent_j = j\n",
        "\n",
        "    # Initialize the open list (cells to be visited) with the start cell\n",
        "    open_list = []\n",
        "    heapq.heappush(open_list, (0.0, i, j))\n",
        "\n",
        "#The function adds the new element item to the heap heap.\n",
        "#After the addition, the heap property is maintained.\n",
        "#This means that the smallest element is always at index 0 of the heap list, and all other elements follow the heap property.\n",
        "\n",
        "\n",
        "    # Initialize the flag for whether destination is found\n",
        "    found_dest = False\n",
        "\n",
        "    # Main loop of A* search algorithm\n",
        "    while len(open_list) > 0:\n",
        "        # Pop the cell with the smallest f value from the open list\n",
        "        p = heapq.heappop(open_list)\n",
        "\n",
        "#The function removes the smallest element from the heap heap.\n",
        "#After the removal, the heap property is maintained.\n",
        "#This means that the smallest element is always at index 0 of the heap list, and all other elements follow the heap property.\n",
        "\n",
        "\n",
        "        # Mark the cell as visited\n",
        "        i = p[1]\n",
        "        j = p[2]\n",
        "        closed_list[i][j] = True\n",
        "\n",
        "        # For each direction, check the successors\n",
        "        directions = [(0, 1), (0, -1), (1, 0), (-1, 0), (1, 1), (1, -1), (-1, 1), (-1, -1)]\n",
        "        for dir in directions:\n",
        "            new_i = i + dir[0]\n",
        "            new_j = j + dir[1]\n",
        "\n",
        "            # If the successor is valid, unblocked, and not visited\n",
        "            if is_valid(new_i, new_j) and is_unblocked(grid, new_i, new_j) and not closed_list[new_i][new_j]:\n",
        "                # If the successor is the destination\n",
        "                if is_destination(new_i, new_j, dest):\n",
        "                    # Set the parent of the destination cell\n",
        "                    cell_details[new_i][new_j].parent_i = i\n",
        "                    cell_details[new_i][new_j].parent_j = j\n",
        "                    print(\"The destination cell is found\")\n",
        "                    # Trace and print the path from source to destination\n",
        "                    path = trace_path(cell_details, dest)\n",
        "                    found_dest = True\n",
        "                    return path\n",
        "                else:\n",
        "                    # Calculate the new f, g, and h values\n",
        "                    g_new = cell_details[i][j].g + 1.0\n",
        "                    h_new = calculate_h_value(new_i, new_j, dest)\n",
        "                    f_new = g_new + h_new\n",
        "\n",
        "                    # If the cell is not in the open list or the new f value is smaller\n",
        "                    if cell_details[new_i][new_j].f == float('inf') or cell_details[new_i][new_j].f > f_new:\n",
        "                        # Add the cell to the open list\n",
        "                        heapq.heappush(open_list, (f_new, new_i, new_j))\n",
        "                        # Update the cell details\n",
        "                        cell_details[new_i][new_j].f = f_new\n",
        "                        cell_details[new_i][new_j].g = g_new\n",
        "                        cell_details[new_i][new_j].h = h_new\n",
        "                        cell_details[new_i][new_j].parent_i = i\n",
        "                        cell_details[new_i][new_j].parent_j = j\n",
        "\n",
        "    # If the destination is not found after visiting all cells\n",
        "    if not found_dest:\n",
        "        print(\"Failed to find the destination cell\")"
      ]
    },
    {
      "cell_type": "code",
      "execution_count": 10,
      "metadata": {
        "colab": {
          "base_uri": "https://localhost:8080/"
        },
        "id": "6f8yNGlImCgU",
        "outputId": "fdb987dd-8f1f-4897-e58a-acdab9e63c06"
      },
      "outputs": [
        {
          "data": {
            "text/plain": [
              "[[False, False, False, False, False, False, False, False, False, False],\n",
              " [False, False, False, False, False, False, False, False, False, False],\n",
              " [False, False, False, False, False, False, False, False, False, False],\n",
              " [False, False, False, False, False, False, False, False, False, False],\n",
              " [False, False, False, False, False, False, False, False, False, False],\n",
              " [False, False, False, False, False, False, False, False, False, False],\n",
              " [False, False, False, False, False, False, False, False, False, False],\n",
              " [False, False, False, False, False, False, False, False, False, False],\n",
              " [False, False, False, False, False, False, False, False, False, False]]"
            ]
          },
          "execution_count": 10,
          "metadata": {},
          "output_type": "execute_result"
        }
      ],
      "source": [
        "closed_list = [[False for a in range(COL)] for a in range(ROW)]\n",
        "closed_list"
      ]
    },
    {
      "cell_type": "code",
      "execution_count": 11,
      "metadata": {
        "colab": {
          "base_uri": "https://localhost:8080/"
        },
        "id": "t5D-asn1mZ2T",
        "outputId": "4f6b2218-c569-4e98-e00b-38155742559c"
      },
      "outputs": [
        {
          "data": {
            "text/plain": [
              "[[<__main__.Cell at 0x17f4aa8e4d0>,\n",
              "  <__main__.Cell at 0x17f42d508d0>,\n",
              "  <__main__.Cell at 0x17f4a58d2d0>,\n",
              "  <__main__.Cell at 0x17f4a364fd0>,\n",
              "  <__main__.Cell at 0x17f4a365ed0>,\n",
              "  <__main__.Cell at 0x17f4a364350>,\n",
              "  <__main__.Cell at 0x17f4a364510>,\n",
              "  <__main__.Cell at 0x17f4a3645d0>,\n",
              "  <__main__.Cell at 0x17f4a364290>,\n",
              "  <__main__.Cell at 0x17f4a364410>],\n",
              " [<__main__.Cell at 0x17f4aa80390>,\n",
              "  <__main__.Cell at 0x17f4aa804d0>,\n",
              "  <__main__.Cell at 0x17f4aa80850>,\n",
              "  <__main__.Cell at 0x17f4aa80110>,\n",
              "  <__main__.Cell at 0x17f4aa80ad0>,\n",
              "  <__main__.Cell at 0x17f4aa80990>,\n",
              "  <__main__.Cell at 0x17f4aa806d0>,\n",
              "  <__main__.Cell at 0x17f4aa81510>,\n",
              "  <__main__.Cell at 0x17f4aa81c90>,\n",
              "  <__main__.Cell at 0x17f4aa80c10>],\n",
              " [<__main__.Cell at 0x17f4aa81e10>,\n",
              "  <__main__.Cell at 0x17f4aa82390>,\n",
              "  <__main__.Cell at 0x17f4aa813d0>,\n",
              "  <__main__.Cell at 0x17f4aa81710>,\n",
              "  <__main__.Cell at 0x17f4aa82090>,\n",
              "  <__main__.Cell at 0x17f4aa82c50>,\n",
              "  <__main__.Cell at 0x17f4aa82950>,\n",
              "  <__main__.Cell at 0x17f4aa834d0>,\n",
              "  <__main__.Cell at 0x17f4aa82e50>,\n",
              "  <__main__.Cell at 0x17f4aa826d0>],\n",
              " [<__main__.Cell at 0x17f4aa837d0>,\n",
              "  <__main__.Cell at 0x17f4aa83890>,\n",
              "  <__main__.Cell at 0x17f4aa81850>,\n",
              "  <__main__.Cell at 0x17f4aa9f6d0>,\n",
              "  <__main__.Cell at 0x17f4aa9ddd0>,\n",
              "  <__main__.Cell at 0x17f4aa9d9d0>,\n",
              "  <__main__.Cell at 0x17f4aa9dd90>,\n",
              "  <__main__.Cell at 0x17f4aa9d590>,\n",
              "  <__main__.Cell at 0x17f4aa9c810>,\n",
              "  <__main__.Cell at 0x17f4aa9de10>],\n",
              " [<__main__.Cell at 0x17f4aa9f590>,\n",
              "  <__main__.Cell at 0x17f4aa9e9d0>,\n",
              "  <__main__.Cell at 0x17f4aa9df50>,\n",
              "  <__main__.Cell at 0x17f4aa9ca50>,\n",
              "  <__main__.Cell at 0x17f4aa9c050>,\n",
              "  <__main__.Cell at 0x17f4aa9c390>,\n",
              "  <__main__.Cell at 0x17f4aa9c1d0>,\n",
              "  <__main__.Cell at 0x17f4aa9c490>,\n",
              "  <__main__.Cell at 0x17f4aa9d790>,\n",
              "  <__main__.Cell at 0x17f4aa9df90>],\n",
              " [<__main__.Cell at 0x17f4aa9d6d0>,\n",
              "  <__main__.Cell at 0x17f4aa9db10>,\n",
              "  <__main__.Cell at 0x17f4aa9dcd0>,\n",
              "  <__main__.Cell at 0x17f4aa9ee90>,\n",
              "  <__main__.Cell at 0x17f4aa9fc90>,\n",
              "  <__main__.Cell at 0x17f4aaa0090>,\n",
              "  <__main__.Cell at 0x17f4aaa3750>,\n",
              "  <__main__.Cell at 0x17f4aaa2310>,\n",
              "  <__main__.Cell at 0x17f4aaa0250>,\n",
              "  <__main__.Cell at 0x17f4aa9f8d0>],\n",
              " [<__main__.Cell at 0x17f4aaa2190>,\n",
              "  <__main__.Cell at 0x17f4aaa1e90>,\n",
              "  <__main__.Cell at 0x17f4aaa31d0>,\n",
              "  <__main__.Cell at 0x17f4aaa06d0>,\n",
              "  <__main__.Cell at 0x17f4aaa0110>,\n",
              "  <__main__.Cell at 0x17f4aaa17d0>,\n",
              "  <__main__.Cell at 0x17f4aaa1650>,\n",
              "  <__main__.Cell at 0x17f4aaa0c50>,\n",
              "  <__main__.Cell at 0x17f4aaabb50>,\n",
              "  <__main__.Cell at 0x17f4aaa1110>],\n",
              " [<__main__.Cell at 0x17f4aaa8290>,\n",
              "  <__main__.Cell at 0x17f4aaaab10>,\n",
              "  <__main__.Cell at 0x17f4aaaab90>,\n",
              "  <__main__.Cell at 0x17f4aaa9850>,\n",
              "  <__main__.Cell at 0x17f4aaaa6d0>,\n",
              "  <__main__.Cell at 0x17f4aaaaad0>,\n",
              "  <__main__.Cell at 0x17f4aaaa9d0>,\n",
              "  <__main__.Cell at 0x17f4aaa8a50>,\n",
              "  <__main__.Cell at 0x17f4aaab390>,\n",
              "  <__main__.Cell at 0x17f4aaaaa50>],\n",
              " [<__main__.Cell at 0x17f4aaaa510>,\n",
              "  <__main__.Cell at 0x17f4aaabf90>,\n",
              "  <__main__.Cell at 0x17f4aaabf50>,\n",
              "  <__main__.Cell at 0x17f4aaab650>,\n",
              "  <__main__.Cell at 0x17f4aaab610>,\n",
              "  <__main__.Cell at 0x17f4aaa9c10>,\n",
              "  <__main__.Cell at 0x17f4aaaae50>,\n",
              "  <__main__.Cell at 0x17f4aaab8d0>,\n",
              "  <__main__.Cell at 0x17f4aaab7d0>,\n",
              "  <__main__.Cell at 0x17f4aaab5d0>]]"
            ]
          },
          "execution_count": 11,
          "metadata": {},
          "output_type": "execute_result"
        }
      ],
      "source": [
        "cell_details = [[Cell() for a in range(COL)] for a in range(ROW)]\n",
        "cell_details"
      ]
    },
    {
      "cell_type": "markdown",
      "metadata": {
        "id": "NfW7oRGTK0Kj"
      },
      "source": [
        "**Grid Visualization**"
      ]
    },
    {
      "cell_type": "code",
      "execution_count": 12,
      "metadata": {
        "colab": {
          "base_uri": "https://localhost:8080/",
          "height": 482
        },
        "id": "9BpbBz6s8h79",
        "outputId": "e88b72de-15ed-499c-a6d6-04e29e1725df"
      },
      "outputs": [
        {
          "name": "stdout",
          "output_type": "stream",
          "text": [
            "The destination cell is found\n",
            "The Path is \n",
            "-> (6, 5) -> (5, 5) -> (4, 5) -> (3, 4) -> (2, 5) -> (1, 6) -> (2, 7) \n"
          ]
        },
        {
          "data": {
            "image/png": "[encoded data removed]",
            "text/plain": [
              "<Figure size 640x480 with 1 Axes>"
            ]
          },
          "metadata": {},
          "output_type": "display_data"
        }
      ],
      "source": [
        "def visualize_grid(grid, path=None):\n",
        "    fig, ax = plt.subplots()\n",
        "    for i in range(len(grid)):\n",
        "        for j in range(len(grid[0])):\n",
        "            if grid[i][j] == 1:\n",
        "                ax.plot(j, i, marker='s', color='lightgray', markersize=10)   # unblocked cells\n",
        "            else:\n",
        "                ax.plot(j, i, marker='s', color='black', markersize=10)       # blocked cells\n",
        "    if path:\n",
        "        for node in path:\n",
        "            ax.plot(node[1], node[0], marker='o', color='red', markersize=10) # A* Path\n",
        "    plt.gca().invert_yaxis()  # Invert y axis to match grid coordinates\n",
        "                              # This function retrieves the current Axes instance from the current figure.\n",
        "                              #The \"gca\" stands for \"get current axes\".\n",
        "    plt.grid(True)\n",
        "    plt.show()\n",
        "\n",
        "def main():\n",
        "    # Define the grid (1 for unblocked, 0 for blocked)\n",
        "    grid = [\n",
        "        [1, 0, 1, 1, 1, 1, 0, 1, 1, 1],\n",
        "        [1, 1, 1, 0, 1, 1, 1, 0, 1, 1],\n",
        "        [1, 1, 1, 0, 1, 1, 0, 1, 0, 1],\n",
        "        [0, 0, 1, 0, 1, 0, 0, 0, 0, 1],\n",
        "        [1, 1, 1, 0, 1, 1, 1, 0, 1, 0],\n",
        "        [1, 0, 1, 1, 1, 1, 0, 1, 0, 0],\n",
        "        [1, 0, 0, 0, 0, 1, 0, 0, 0, 1],\n",
        "        [1, 0, 1, 1, 1, 1, 0, 1, 1, 1],\n",
        "        [1, 1, 1, 0, 0, 0, 1, 0, 0, 1]\n",
        "    ]\n",
        "\n",
        "    # Define the source and destination\n",
        "    src = [6, 5]\n",
        "    dest = [2, 7]\n",
        "\n",
        "    # Run the A* search algorithm\n",
        "    path = a_star_search(grid, src, dest)\n",
        "    visualize_grid(grid, path)\n",
        "\n",
        "if __name__ == \"__main__\":\n",
        "    main()"
      ]
    },
    {
      "cell_type": "markdown",
      "metadata": {},
      "source": [
        "CONCLUSION : In this code, we've completed the A* search algorithm and provided a simple main function to define the grid, source, and destination coordinates, call the A* search function, and visualize the grid with the computed path. You can run this code to see the A* algorithm in action for path planning on the defined grid."
      ]
    }
  ],
  "metadata": {
    "colab": {
      "provenance": []
    },
    "kernelspec": {
      "display_name": "Python 3",
      "name": "python3"
    },
    "language_info": {
      "codemirror_mode": {
        "name": "ipython",
        "version": 3
      },
      "file_extension": ".py",
      "mimetype": "text/x-python",
      "name": "python",
      "nbconvert_exporter": "python",
      "pygments_lexer": "ipython3",
      "version": "3.11.9"
    }
  },
  "nbformat": 4,
  "nbformat_minor": 0
}
